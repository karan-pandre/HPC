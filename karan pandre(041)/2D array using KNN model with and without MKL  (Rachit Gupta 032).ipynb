{
 "cells": [
  {
   "cell_type": "code",
   "execution_count": 33,
   "id": "242c57e8",
   "metadata": {},
   "outputs": [
    {
     "name": "stdout",
     "output_type": "stream",
     "text": [
      "KNN with MKL optimization:\n",
      "Predicted labels: [1 0]\n",
      "Time taken: 0.004011392593383789\n"
     ]
    },
    {
     "data": {
      "image/png": "[encoded data removed]",
      "text/plain": [
       "<Figure size 720x432 with 1 Axes>"
      ]
     },
     "metadata": {
      "needs_background": "light"
     },
     "output_type": "display_data"
    }
   ],
   "source": [
    "import numpy as np\n",
    "from scipy.spatial.distance import cdist\n",
    "from time import time\n",
    "import matplotlib.pyplot as plt\n",
    "\n",
    "# Define a different dataset for demonstration\n",
    "train_data = np.array([[2, 1], [3, 2], [4, 3], [5, 4], [6, 5]])\n",
    "train_labels = np.array([1, 1, 0, 0, 0])  # Labels corresponding to train_data\n",
    "test_data = np.array([[3.5, 2.5], [5.5, 4.5]])\n",
    "\n",
    "# Define K-Nearest Neighbors function with Intel MKL optimization\n",
    "def knn_with_mkl(train_data, train_labels, test_data, num_neighbors):\n",
    "    start_time = time()\n",
    "    # Compute distances between test points and training points\n",
    "    distances = cdist(test_data, train_data, 'euclidean')\n",
    "    # Find num_neighbors nearest neighbors for each test point\n",
    "    nearest_indices = np.argsort(distances, axis=1)[:, :num_neighbors]\n",
    "    nearest_labels = train_labels[nearest_indices]\n",
    "    # Predict labels based on majority vote\n",
    "    predicted_labels = np.apply_along_axis(lambda x: np.bincount(x).argmax(), axis=1, arr=nearest_labels)\n",
    "    end_time = time()\n",
    "    time_taken = end_time - start_time\n",
    "    return predicted_labels, time_taken, distances, nearest_indices\n",
    "\n",
    "# Set num_neighbors for KNN\n",
    "num_neighbors = 3\n",
    "\n",
    "# Run KNN with MKL optimization\n",
    "predicted_labels, time_taken, distances, nearest_indices = knn_with_mkl(train_data, train_labels, test_data, num_neighbors)\n",
    "\n",
    "# Print results\n",
    "print(\"KNN with MKL optimization:\")\n",
    "print(\"Predicted labels:\", predicted_labels)\n",
    "print(\"Time taken:\", time_taken)\n",
    "\n",
    "# Plotting bar graph of distances for each test point\n",
    "fig, ax = plt.subplots(figsize=(10, 6))\n",
    "\n",
    "bar_width = 0.35\n",
    "index = np.arange(num_neighbors)\n",
    "\n",
    "for i, point in enumerate(test_data):\n",
    "    # Get distances to the num_neighbors nearest neighbors for the current test point\n",
    "    dists = distances[i, nearest_indices[i]]\n",
    "    # Plot bar graph for the current test point\n",
    "    ax.bar(index + i * bar_width, dists, bar_width, label=f'Test point {i+1} (Pred: {predicted_labels[i]})')\n",
    "\n",
    "# Add labels and legend\n",
    "ax.set_xlabel('Neighbors')\n",
    "ax.set_ylabel('Distance')\n",
    "ax.set_title('Distances to Nearest Neighbors')\n",
    "ax.set_xticks(index + bar_width / 2 * (len(test_data) - 1))\n",
    "ax.set_xticklabels([f'Neighbor {i+1}' for i in range(num_neighbors)])\n",
    "ax.legend()\n",
    "\n",
    "plt.show()"
   ]
  },
  {
   "cell_type": "code",
   "execution_count": null,
   "id": "b0f752ce",
   "metadata": {},
   "outputs": [],
   "source": []
  }
 ],
 "metadata": {
  "kernelspec": {
   "display_name": "Python 3 (ipykernel)",
   "language": "python",
   "name": "python3"
  },
  "language_info": {
   "codemirror_mode": {
    "name": "ipython",
    "version": 3
   },
   "file_extension": ".py",
   "mimetype": "text/x-python",
   "name": "python",
   "nbconvert_exporter": "python",
   "pygments_lexer": "ipython3",
   "version": "3.9.7"
  }
 },
 "nbformat": 4,
 "nbformat_minor": 5
}
